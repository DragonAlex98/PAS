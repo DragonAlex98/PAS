{
 "cells": [
  {
   "cell_type": "markdown",
   "metadata": {},
   "source": [
    "# PAS\n",
    "\n",
    "## Number of cities\n",
    "- 2\n",
    "- 3\n",
    "- 4 (?)\n",
    "\n",
    "## Moving\n",
    "- next city\n",
    "- biggest city\n",
    "- smallest city\n",
    "- no movement (no I/E = only a city will remain and will keep growing)\n",
    "\n",
    "## Conditions\n",
    "- no population cap\n",
    "- disasters (when pop[i] > 100, pop[i] reduced to 10)\n",
    "- reproduction with rate 1 of 1 child / reproduction with rate 0.5 of 1 child and rate 0.5 of 2 children\n",
    "\n",
    "## Analysis\n",
    "- group data by interval before doing any analysis\n",
    "- graphs of Birth, Immigration, Death, Emigration for all population\n",
    "- abundance graph\n",
    "- population graph (+ SD)\n",
    "- total population graph (+ SD)"
   ]
  },
  {
   "cell_type": "markdown",
   "metadata": {},
   "source": [
    "# Install Python dependencies"
   ]
  },
  {
   "cell_type": "code",
   "execution_count": null,
   "metadata": {},
   "outputs": [],
   "source": [
    "%pip install pandas matplotlib"
   ]
  },
  {
   "cell_type": "markdown",
   "metadata": {},
   "source": [
    "# BD model vs BIDE model"
   ]
  },
  {
   "cell_type": "code",
   "execution_count": null,
   "metadata": {},
   "outputs": [],
   "source": [
    "import os\n",
    "import pandas as pd\n",
    "import matplotlib.pyplot as plt\n",
    "\n",
    "bd_vs_bide_folder = \"bd_vs_bide\"\n",
    "bd_results_folder = \"bd_results\"\n",
    "bide_results_folder = \"bide_results\"\n",
    "n_cities = 3\n",
    "columns = ['Time', 'Mean', 'SD', 'CI']"
   ]
  },
  {
   "cell_type": "code",
   "execution_count": null,
   "metadata": {},
   "outputs": [],
   "source": [
    "bd = pd.read_csv(filepath_or_buffer=os.path.join(os.path.join(bd_vs_bide_folder, bd_results_folder), 'bd_P_tot{}.csv'), sep=',', names=columns, header=None)\n",
    "bide = pd.read_csv(filepath_or_buffer=os.path.join(os.path.join(bd_vs_bide_folder, bide_results_folder), 'bide_P_tot{}.csv'), sep=',', names=columns, header=None)\n",
    "\n",
    "fig = plt.figure()\n",
    "ax = fig.add_subplot(1, 1, 1)\n",
    "fig.suptitle('Total population')\n",
    "ax.plot(bd['Time'], bd['Mean'], label='BD model')\n",
    "ax.fill_between(bd['Time'], bd['Mean']-bd['SD'], bd['Mean']+bd['SD'], alpha=0.3)\n",
    "ax.plot(bide['Time'], bide['Mean'], label='BIDE model')\n",
    "ax.fill_between(bide['Time'], bide['Mean']-bide['SD'], bide['Mean']+bide['SD'], alpha=0.3)\n",
    "ax.legend()\n",
    "plt.show()"
   ]
  },
  {
   "cell_type": "code",
   "execution_count": null,
   "metadata": {},
   "outputs": [],
   "source": [
    "bd_pop = [None for i in range(n_cities)]\n",
    "bide_pop = [None for i in range(n_cities)]\n",
    "for i in range(n_cities):\n",
    "    bd_pop[i] = pd.read_csv(filepath_or_buffer=os.path.join(os.path.join(bd_vs_bide_folder, bd_results_folder), f'bd_#P[{i}].csv'), sep=',', names=columns, header=None)\n",
    "    bide_pop[i] = pd.read_csv(filepath_or_buffer=os.path.join(os.path.join(bd_vs_bide_folder, bide_results_folder), f'bide_#P[{i}].csv'), sep=',', names=columns, header=None)\n",
    "\n",
    "fig = plt.figure()\n",
    "ax = fig.add_subplot(1, 1, 1)\n",
    "fig.suptitle('Population')\n",
    "for i in range(n_cities):\n",
    "    ax.plot(bd_pop[i]['Time'], bd_pop[i]['Mean'], label=f'BD model city {i+1}')\n",
    "for i in range(n_cities):\n",
    "    ax.plot(bide_pop[i]['Time'], bide_pop[i]['Mean'], label=f'BIDE model city {i+1}')\n",
    "ax.legend()\n",
    "plt.show()"
   ]
  },
  {
   "cell_type": "code",
   "execution_count": null,
   "metadata": {},
   "outputs": [],
   "source": [
    "species = 'PBD'\n",
    "n_species = len(species)\n",
    "\n",
    "bd_data = {}\n",
    "\n",
    "for s in species:\n",
    "    bd_data[s] = pd.read_csv(filepath_or_buffer=os.path.join(os.path.join(bd_vs_bide_folder, bd_results_folder), f'bd_{s}_tot{{}}.csv'), sep=',', names=columns, header=None)\n",
    "\n",
    "fig = plt.figure()\n",
    "ax = fig.add_subplot(1, 1, 1)\n",
    "fig.suptitle('Population, B-D')\n",
    "for s in species:\n",
    "    ax.plot(bd_data[s]['Time'], bd_data[s]['Mean'], label=f'#{s}')\n",
    "ax.legend()\n",
    "plt.show()"
   ]
  },
  {
   "cell_type": "code",
   "execution_count": null,
   "metadata": {},
   "outputs": [],
   "source": [
    "species = 'PBIDE'\n",
    "n_species = len(species)\n",
    "\n",
    "bide_data = {}\n",
    "\n",
    "for s in species:\n",
    "    bide_data[s] = pd.read_csv(filepath_or_buffer=os.path.join(os.path.join(bd_vs_bide_folder, bide_results_folder), f'bide_{s}_tot{{}}.csv'), sep=',', names=columns, header=None)\n",
    "\n",
    "fig = plt.figure()\n",
    "ax = fig.add_subplot(1, 1, 1)\n",
    "fig.suptitle('Population, B-I-D-E')\n",
    "for s in species:\n",
    "    ax.plot(bide_data[s]['Time'], bide_data[s]['Mean'], label=f'#{s}')\n",
    "ax.legend()\n",
    "plt.show()"
   ]
  },
  {
   "cell_type": "markdown",
   "metadata": {},
   "source": [
    "# Balanced vs Unbalanced"
   ]
  },
  {
   "cell_type": "code",
   "execution_count": null,
   "metadata": {},
   "outputs": [],
   "source": [
    "import os\n",
    "import pandas as pd\n",
    "import matplotlib.pyplot as plt\n",
    "\n",
    "balanced_vs_unbalanced_folder = \"balanced_vs_unbalanced\"\n",
    "balanced_results_folder = \"balanced_results\"\n",
    "unbalanced_results_folder = \"unbalanced_results\"\n",
    "n_cities = 3\n",
    "columns = ['Time', 'Mean', 'SD', 'CI']"
   ]
  },
  {
   "cell_type": "code",
   "execution_count": null,
   "metadata": {},
   "outputs": [],
   "source": [
    "balanced = pd.read_csv(filepath_or_buffer=os.path.join(os.path.join(balanced_vs_unbalanced_folder, balanced_results_folder), 'balanced_P_tot{}.csv'), sep=',', names=columns, header=None)\n",
    "unbalanced = pd.read_csv(filepath_or_buffer=os.path.join(os.path.join(balanced_vs_unbalanced_folder, unbalanced_results_folder), 'unbalanced_P_tot{}.csv'), sep=',', names=columns, header=None)\n",
    "\n",
    "fig = plt.figure()\n",
    "ax = fig.add_subplot(1, 1, 1)\n",
    "fig.suptitle('Total population')\n",
    "ax.plot(balanced['Time'], balanced['Mean'], label='Balanced system')\n",
    "ax.fill_between(balanced['Time'], balanced['Mean']-balanced['SD'], balanced['Mean']+balanced['SD'], alpha=0.3)\n",
    "ax.plot(unbalanced['Time'], unbalanced['Mean'], label='Unbalanced system')\n",
    "ax.fill_between(unbalanced['Time'], unbalanced['Mean']-unbalanced['SD'], unbalanced['Mean']+unbalanced['SD'], alpha=0.3)\n",
    "ax.legend()\n",
    "plt.show()"
   ]
  },
  {
   "cell_type": "code",
   "execution_count": null,
   "metadata": {},
   "outputs": [],
   "source": [
    "balanced_pop = [None for i in range(n_cities)]\n",
    "unbalanced_pop = [None for i in range(n_cities)]\n",
    "for i in range(n_cities):\n",
    "    balanced_pop[i] = pd.read_csv(filepath_or_buffer=os.path.join(os.path.join(balanced_vs_unbalanced_folder, balanced_results_folder), f'balanced_#P[{i}].csv'), sep=',', names=columns, header=None)\n",
    "    unbalanced_pop[i] = pd.read_csv(filepath_or_buffer=os.path.join(os.path.join(balanced_vs_unbalanced_folder, unbalanced_results_folder), f'unbalanced_#P[{i}].csv'), sep=',', names=columns, header=None)\n",
    "\n",
    "fig = plt.figure()\n",
    "ax = fig.add_subplot(1, 1, 1)\n",
    "fig.suptitle('Population')\n",
    "for i in range(n_cities):\n",
    "    ax.plot(balanced_pop[i]['Time'], balanced_pop[i]['Mean'], label=f'Balanced system city {i+1}')\n",
    "for i in range(n_cities):\n",
    "    ax.plot(unbalanced_pop[i]['Time'], unbalanced_pop[i]['Mean'], label=f'Unbalanced system city {i+1}')\n",
    "ax.legend()\n",
    "plt.show()"
   ]
  },
  {
   "cell_type": "code",
   "execution_count": null,
   "metadata": {},
   "outputs": [],
   "source": [
    "species = 'PBD'\n",
    "n_species = len(species)\n",
    "\n",
    "balanced_data = {}\n",
    "\n",
    "for s in species:\n",
    "    balanced_data[s] = pd.read_csv(filepath_or_buffer=os.path.join(os.path.join(balanced_vs_unbalanced_folder, balanced_results_folder), f'balanced_{s}_tot{{}}.csv'), sep=',', names=columns, header=None)\n",
    "\n",
    "fig = plt.figure()\n",
    "ax = fig.add_subplot(1, 1, 1)\n",
    "fig.suptitle('Population, B-D')\n",
    "for s in species:\n",
    "    ax.plot(balanced_data[s]['Time'], balanced_data[s]['Mean'], label=f'#{s}')\n",
    "ax.legend()\n",
    "plt.show()"
   ]
  },
  {
   "cell_type": "code",
   "execution_count": null,
   "metadata": {},
   "outputs": [],
   "source": [
    "species = 'PBIDE'\n",
    "n_species = len(species)\n",
    "\n",
    "unbalanced_data = {}\n",
    "\n",
    "for s in species:\n",
    "    unbalanced_data[s] = pd.read_csv(filepath_or_buffer=os.path.join(os.path.join(balanced_vs_unbalanced_folder, unbalanced_results_folder), f'unbalanced_{s}_tot{{}}.csv'), sep=',', names=columns, header=None)\n",
    "\n",
    "fig = plt.figure()\n",
    "ax = fig.add_subplot(1, 1, 1)\n",
    "fig.suptitle('Population, B-I-D-E')\n",
    "for s in species:\n",
    "    ax.plot(unbalanced_data[s]['Time'], unbalanced_data[s]['Mean'], label=f'#{s}')\n",
    "ax.legend()\n",
    "plt.show()"
   ]
  },
  {
   "cell_type": "markdown",
   "metadata": {},
   "source": [
    "# Emigrate to Next vs Biggest vs Smallest city"
   ]
  },
  {
   "cell_type": "code",
   "execution_count": null,
   "metadata": {},
   "outputs": [],
   "source": [
    "import os\n",
    "import pandas as pd\n",
    "import matplotlib.pyplot as plt\n",
    "\n",
    "next_vs_biggest_vs_smallest_folder = \"next_vs_biggest_vs_smallest\"\n",
    "next_results_folder = \"next_results\"\n",
    "biggest_results_folder = \"biggest_results\"\n",
    "smallest_results_folder = \"smallest_results\"\n",
    "n_cities = 3\n",
    "columns = ['Time', 'Mean', 'SD', 'CI']"
   ]
  },
  {
   "cell_type": "code",
   "execution_count": null,
   "metadata": {},
   "outputs": [],
   "source": [
    "next = pd.read_csv(filepath_or_buffer=os.path.join(os.path.join(next_vs_biggest_vs_smallest_folder, next_results_folder), 'next_P_tot{}.csv'), sep=',', names=columns, header=None)\n",
    "biggest = pd.read_csv(filepath_or_buffer=os.path.join(os.path.join(next_vs_biggest_vs_smallest_folder, biggest_results_folder), 'biggest_P_tot{}.csv'), sep=',', names=columns, header=None)\n",
    "smallest = pd.read_csv(filepath_or_buffer=os.path.join(os.path.join(next_vs_biggest_vs_smallest_folder, smallest_results_folder), 'smallest_P_tot{}.csv'), sep=',', names=columns, header=None)\n",
    "\n",
    "fig = plt.figure()\n",
    "ax = fig.add_subplot(1, 1, 1)\n",
    "fig.suptitle('Total population')\n",
    "ax.plot(next['Time'], next['Mean'], label='Emigrate to Next')\n",
    "ax.fill_between(next['Time'], next['Mean']-next['SD'], next['Mean']+next['SD'], alpha=0.3)\n",
    "ax.plot(biggest['Time'], biggest['Mean'], label='Emigrate to Biggest')\n",
    "ax.fill_between(biggest['Time'], biggest['Mean']-biggest['SD'], biggest['Mean']+biggest['SD'], alpha=0.3)\n",
    "ax.plot(smallest['Time'], smallest['Mean'], label='Emigrate to Smallest')\n",
    "ax.fill_between(smallest['Time'], smallest['Mean']-smallest['SD'], smallest['Mean']+smallest['SD'], alpha=0.3)\n",
    "ax.legend()\n",
    "plt.show()"
   ]
  },
  {
   "cell_type": "code",
   "execution_count": null,
   "metadata": {},
   "outputs": [],
   "source": [
    "fig = plt.figure()\n",
    "ax = fig.add_subplot(1, 1, 1)\n",
    "fig.suptitle('Total population')\n",
    "ax.plot(next['Time'], next['Mean'], label='Emigrate to Next')\n",
    "ax.plot(smallest['Time'], smallest['Mean'], color='green', label='Emigrate to Smallest')\n",
    "ax.legend()\n",
    "plt.show()"
   ]
  },
  {
   "cell_type": "code",
   "execution_count": null,
   "metadata": {},
   "outputs": [],
   "source": [
    "next_pop = [None for i in range(n_cities)]\n",
    "biggest_pop = [None for i in range(n_cities)]\n",
    "smallest_pop = [None for i in range(n_cities)]\n",
    "for i in range(n_cities):\n",
    "    next_pop[i] = pd.read_csv(filepath_or_buffer=os.path.join(os.path.join(next_vs_biggest_vs_smallest_folder, next_results_folder), f'next_#P[{i}].csv'), sep=',', names=columns, header=None)\n",
    "    biggest_pop[i] = pd.read_csv(filepath_or_buffer=os.path.join(os.path.join(next_vs_biggest_vs_smallest_folder, biggest_results_folder), f'biggest_#P[{i}].csv'), sep=',', names=columns, header=None)\n",
    "    smallest_pop[i] = pd.read_csv(filepath_or_buffer=os.path.join(os.path.join(next_vs_biggest_vs_smallest_folder, smallest_results_folder), f'smallest_#P[{i}].csv'), sep=',', names=columns, header=None)\n",
    "\n",
    "next = ['Emigrate to Next', next_pop]\n",
    "biggest = ['Emigrate to Biggest', biggest_pop]\n",
    "smallest = ['Emigrate to Smallest', smallest_pop]\n",
    "for strategy in [next, biggest, smallest]:\n",
    "    fig = plt.figure()\n",
    "    ax = fig.add_subplot(1, 1, 1)\n",
    "    fig.suptitle(strategy[0])\n",
    "    for i in range(n_cities):\n",
    "        ax.plot(strategy[1][i]['Time'], strategy[1][i]['Mean'], label=f'City {i+1}')\n",
    "        ax.fill_between(strategy[1][i]['Time'], strategy[1][i]['Mean'] - strategy[1][i]['SD'], strategy[1][i]['Mean'] + strategy[1][i]['SD'], label=f'City {i+1}', alpha=0.3)\n",
    "    ax.legend(loc='upper left')\n",
    "    plt.show()"
   ]
  },
  {
   "cell_type": "markdown",
   "metadata": {},
   "source": [
    "# Load all datasets\n",
    "Load all the datasets related to Birth, Immigration, Death, Emigration, Population and total Population and give names to the columns."
   ]
  },
  {
   "cell_type": "code",
   "execution_count": null,
   "metadata": {},
   "outputs": [],
   "source": [
    "import pandas as pd\n",
    "import os\n",
    "\n",
    "n_cities = 3\n",
    "species = 'BIDEP'\n",
    "n_species = len(species)\n",
    "results_folder = 'results'\n",
    "data = [n_species*[None] for i in range(n_cities)]\n",
    "columns = ['Time', 'Mean', 'SD', 'CI']\n",
    "pop_tot = pd.read_csv(filepath_or_buffer=os.path.join(results_folder, 'lifepop_tot{}.csv'), sep=',', names=columns, header=None)\n",
    "\n",
    "for i in range(n_cities):\n",
    "    for s in range(n_species):\n",
    "        data[i][s] = pd.read_csv(filepath_or_buffer=os.path.join(results_folder, f'life#{species[s]}[{i}].csv'), sep=',', names=columns, header=None)"
   ]
  },
  {
   "cell_type": "markdown",
   "metadata": {},
   "source": [
    "# BIDE model equation\n",
    "N(t+1) = N(t) + B + I - D - E\n",
    "\n",
    "The abundance at time t+1 is equal to the abundance at time t plus Birth and Immigration, minus Death and Emigration.\n",
    "\n",
    "For the sake of simplicity, the abundance at time t is assumed to be 0."
   ]
  },
  {
   "cell_type": "code",
   "execution_count": null,
   "metadata": {},
   "outputs": [],
   "source": [
    "import matplotlib.pyplot as plt\n",
    "\n",
    "abundance = n_cities*[None]\n",
    "for i in range(n_cities):\n",
    "    abundance[i] = data[i][species.index('B')]['Mean'].combine(data[i][species.index('I')]['Mean'], lambda x,y: x+y).combine(data[i][species.index('D')]['Mean'], lambda x,y: x-y).combine(data[i][species.index('E')]['Mean'], lambda x,y: x-y)\n",
    "\n",
    "fig = plt.figure()\n",
    "ax = fig.add_subplot(1, 1, 1)\n",
    "for i in range(n_cities):\n",
    "    ax.plot(range(len(abundance[i])), abundance[i])\n",
    "\n",
    "plt.show()"
   ]
  },
  {
   "cell_type": "markdown",
   "metadata": {},
   "source": [
    "# Geometric Population\n",
    "\n",
    "https://en.wikipedia.org/wiki/Population_dynamics#Geometric_populations"
   ]
  },
  {
   "cell_type": "code",
   "execution_count": null,
   "metadata": {},
   "outputs": [],
   "source": [
    "import matplotlib.pyplot as plt\n",
    "import pandas as pd\n",
    "\n",
    "fig = plt.figure()\n",
    "ax = fig.add_subplot(1, 1, 1)\n",
    "time = pop_tot['Time']\n",
    "mean = pop_tot['Mean']\n",
    "interval = 1000\n",
    "group_mean = mean.groupby(mean.index // interval).mean()\n",
    "new_mean = pd.DataFrame([group_mean[i+1] / group_mean[i] for i in range(group_mean.size-1)], columns=['']) # tends to 1.01\n",
    "new_mean2 = pd.DataFrame([(group_mean[i+1] - group_mean[i])/group_mean[i] for i in range(group_mean.size-1)], columns=['']) # tends to 0.01\n",
    "new_time = pd.DataFrame([time[i*interval] for i in range(time.size//interval-1)], columns=[''])\n",
    "print(new_mean)\n",
    "print(new_mean2)\n",
    "ax.plot(new_time, new_mean2)\n",
    "\n",
    "plt.show()"
   ]
  }
 ],
 "metadata": {
  "interpreter": {
   "hash": "ac59ebe37160ed0dfa835113d9b8498d9f09ceb179beaac4002f036b9467c963"
  },
  "kernelspec": {
   "display_name": "Python 3.9.6 64-bit",
   "language": "python",
   "name": "python3"
  },
  "language_info": {
   "codemirror_mode": {
    "name": "ipython",
    "version": 3
   },
   "file_extension": ".py",
   "mimetype": "text/x-python",
   "name": "python",
   "nbconvert_exporter": "python",
   "pygments_lexer": "ipython3",
   "version": "3.9.6"
  },
  "orig_nbformat": 4
 },
 "nbformat": 4,
 "nbformat_minor": 2
}
