{
 "cells": [
  {
   "cell_type": "code",
   "execution_count": 31,
   "metadata": {},
   "outputs": [
    {
     "name": "stdout",
     "output_type": "stream",
     "text": [
      "      Time    Mean         SD        CI\n",
      "0      0.0    0.00   0.000000  0.000000\n",
      "1      1.0    0.26   0.543464  0.054346\n",
      "2      2.0    0.47   0.702880  0.070288\n",
      "3      3.0    0.75   0.903137  0.090314\n",
      "4      4.0    0.94   1.013246  0.101325\n",
      "..     ...     ...        ...       ...\n",
      "995  995.0  338.00  33.864853  3.386485\n",
      "996  996.0  338.23  33.884788  3.388479\n",
      "997  997.0  338.51  33.794834  3.379483\n",
      "998  998.0  338.82  33.963254  3.396325\n",
      "999  999.0  339.10  33.947821  3.394782\n",
      "\n",
      "[1000 rows x 4 columns]\n"
     ]
    }
   ],
   "source": [
    "import pandas as pd\n",
    "import os\n",
    "\n",
    "n_cities = 3\n",
    "species = 'BIDEP'\n",
    "n_species = len(species)\n",
    "results_folder = 'results'\n",
    "data = [n_species*[None] for i in range(n_cities)]\n",
    "\n",
    "for i in range(n_cities):\n",
    "    for s in range(n_species):\n",
    "        data[i][s] = pd.read_csv(filepath_or_buffer=os.path.join(results_folder, f'life#{species[s]}[{i}].csv'), sep=',', header=None)\n",
    "        data[i][s].columns = ['Time', 'Mean', 'SD', 'CI']\n",
    "\n",
    "print(data[0][0])"
   ]
  },
  {
   "cell_type": "code",
   "execution_count": 32,
   "metadata": {},
   "outputs": [
    {
     "name": "stdout",
     "output_type": "stream",
     "text": [
      "0        0.00\n",
      "1        0.62\n",
      "2        1.10\n",
      "3        1.62\n",
      "4        2.00\n",
      "        ...  \n",
      "995    118.96\n",
      "996    118.92\n",
      "997    118.98\n",
      "998    119.05\n",
      "999    119.02\n",
      "Name: Mean, Length: 1000, dtype: float64\n",
      "0        0.00\n",
      "1        0.10\n",
      "2        0.12\n",
      "3        0.12\n",
      "4        0.33\n",
      "        ...  \n",
      "995    121.71\n",
      "996    121.85\n",
      "997    122.08\n",
      "998    122.16\n",
      "999    122.19\n",
      "Name: Mean, Length: 1000, dtype: float64\n",
      "0        0.00\n",
      "1       -0.07\n",
      "2       -0.01\n",
      "3       -0.06\n",
      "4       -0.27\n",
      "        ...  \n",
      "995    101.88\n",
      "996    102.07\n",
      "997    102.33\n",
      "998    102.47\n",
      "999    102.80\n",
      "Name: Mean, Length: 1000, dtype: float64\n"
     ]
    }
   ],
   "source": [
    "for i in range(n_cities):\n",
    "    print(data[i][species.index('B')]['Mean']\n",
    "        .combine(data[i][species.index('I')]['Mean'], lambda x,y: x+y)\n",
    "        .combine(data[i][species.index('D')]['Mean'], lambda x,y: x-y)\n",
    "        .combine(data[i][species.index('E')]['Mean'], lambda x,y: x-y))"
   ]
  }
 ],
 "metadata": {
  "interpreter": {
   "hash": "ac59ebe37160ed0dfa835113d9b8498d9f09ceb179beaac4002f036b9467c963"
  },
  "kernelspec": {
   "display_name": "Python 3.9.6 64-bit",
   "language": "python",
   "name": "python3"
  },
  "language_info": {
   "codemirror_mode": {
    "name": "ipython",
    "version": 3
   },
   "file_extension": ".py",
   "mimetype": "text/x-python",
   "name": "python",
   "nbconvert_exporter": "python",
   "pygments_lexer": "ipython3",
   "version": "3.9.6"
  },
  "orig_nbformat": 4
 },
 "nbformat": 4,
 "nbformat_minor": 2
}
