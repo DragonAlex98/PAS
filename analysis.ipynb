{
 "cells": [
  {
   "cell_type": "markdown",
   "metadata": {},
   "source": [
    "# PAS\n",
    "\n",
    "## Moving\n",
    "- next city\n",
    "- biggest city\n",
    "- smallest city\n",
    "\n",
    "## Conditions\n",
    "- no population cap\n",
    "- disasters (when pop[i] > 100, pop[i] reduced to 10)\n",
    "\n",
    "## Analysis\n",
    "- graphs of Birth, Immigration, Death, Emigration for all population\n",
    "- abundance graph\n",
    "- population graph (+ SD)\n",
    "- total population graph (+ SD)"
   ]
  },
  {
   "cell_type": "markdown",
   "metadata": {},
   "source": [
    "# Load all datasets\n",
    "Load all the datasets related to Birth, Immigration, Death, Emigration, Population and total Population and give names to the columns."
   ]
  },
  {
   "cell_type": "code",
   "execution_count": null,
   "metadata": {},
   "outputs": [],
   "source": [
    "import pandas as pd\n",
    "import os\n",
    "\n",
    "n_cities = 3\n",
    "species = 'BIDEP'\n",
    "n_species = len(species)\n",
    "results_folder = 'results'\n",
    "data = [n_species*[None] for i in range(n_cities)]\n",
    "columns = ['Time', 'Mean', 'SD', 'CI']\n",
    "pop_tot = pd.read_csv(filepath_or_buffer=os.path.join(results_folder, 'lifepop_tot{}.csv'), sep=',', names=columns, header=None)\n",
    "\n",
    "for i in range(n_cities):\n",
    "    for s in range(n_species):\n",
    "        data[i][s] = pd.read_csv(filepath_or_buffer=os.path.join(results_folder, f'life#{species[s]}[{i}].csv'), sep=',', names=columns, header=None)"
   ]
  },
  {
   "cell_type": "markdown",
   "metadata": {},
   "source": [
    "# BIDE model equation\n",
    "N(t+1) = N(t) + B + I - D - E\n",
    "\n",
    "The abundance at time t+1 is equal to the abundance at time t plus Birth and Immigration, minus Death and Emigration.\n",
    "\n",
    "For the sake of simplicity, the abundance at time t is assumed to be 0."
   ]
  },
  {
   "cell_type": "code",
   "execution_count": null,
   "metadata": {},
   "outputs": [],
   "source": [
    "import matplotlib.pyplot as plt\n",
    "\n",
    "abundance = n_cities*[None]\n",
    "for i in range(n_cities):\n",
    "    abundance[i] = data[i][species.index('B')]['Mean'].combine(data[i][species.index('I')]['Mean'], lambda x,y: x+y).combine(data[i][species.index('D')]['Mean'], lambda x,y: x-y).combine(data[i][species.index('E')]['Mean'], lambda x,y: x-y)\n",
    "\n",
    "fig = plt.figure()\n",
    "ax = fig.add_subplot(1, 1, 1)\n",
    "for i in range(n_cities):\n",
    "    ax.plot(range(len(abundance[i])), abundance[i])\n",
    "\n",
    "plt.show()"
   ]
  },
  {
   "cell_type": "markdown",
   "metadata": {},
   "source": [
    "# Population Graph"
   ]
  },
  {
   "cell_type": "code",
   "execution_count": null,
   "metadata": {},
   "outputs": [],
   "source": [
    "import matplotlib.pyplot as plt\n",
    "\n",
    "fig = plt.figure()\n",
    "ax = fig.add_subplot(1, 1, 1)\n",
    "for i in range(n_cities):\n",
    "    ax.plot(data[i][species.index('P')]['Time'], data[i][species.index('P')]['Mean'])\n",
    "\n",
    "plt.show()"
   ]
  },
  {
   "cell_type": "markdown",
   "metadata": {},
   "source": [
    "# Population Graph + SD"
   ]
  },
  {
   "cell_type": "code",
   "execution_count": null,
   "metadata": {},
   "outputs": [],
   "source": [
    "import matplotlib.pyplot as plt\n",
    "\n",
    "fig = plt.figure()\n",
    "ax = fig.add_subplot(1, 1, 1)\n",
    "for i in range(n_cities):\n",
    "    time = data[i][species.index('P')]['Time']\n",
    "    mean = data[i][species.index('P')]['Mean']\n",
    "    sd = data[i][species.index('P')]['SD']\n",
    "    ax.plot(time, mean)\n",
    "    ax.fill_between(time, mean-sd, mean+sd, alpha=0.3)\n",
    "\n",
    "plt.show()"
   ]
  },
  {
   "cell_type": "markdown",
   "metadata": {},
   "source": [
    "# Total Population"
   ]
  },
  {
   "cell_type": "code",
   "execution_count": null,
   "metadata": {},
   "outputs": [],
   "source": [
    "import matplotlib.pyplot as plt\n",
    "\n",
    "fig = plt.figure()\n",
    "ax = fig.add_subplot(1, 1, 1)\n",
    "time = pop_tot['Time']\n",
    "mean = pop_tot['Mean']\n",
    "ax.plot(time, mean)\n",
    "\n",
    "plt.show()"
   ]
  },
  {
   "cell_type": "markdown",
   "metadata": {},
   "source": [
    "# Total Population + SD"
   ]
  },
  {
   "cell_type": "code",
   "execution_count": null,
   "metadata": {},
   "outputs": [],
   "source": [
    "import matplotlib.pyplot as plt\n",
    "\n",
    "fig = plt.figure()\n",
    "ax = fig.add_subplot(1, 1, 1)\n",
    "time = pop_tot['Time']\n",
    "mean = pop_tot['Mean']\n",
    "sd = pop_tot['SD']\n",
    "ax.plot(time, mean)\n",
    "ax.fill_between(time, mean-sd, mean+sd, alpha=0.3)\n",
    "\n",
    "plt.show()"
   ]
  }
 ],
 "metadata": {
  "interpreter": {
   "hash": "ac59ebe37160ed0dfa835113d9b8498d9f09ceb179beaac4002f036b9467c963"
  },
  "kernelspec": {
   "display_name": "Python 3.9.6 64-bit",
   "language": "python",
   "name": "python3"
  },
  "language_info": {
   "codemirror_mode": {
    "name": "ipython",
    "version": 3
   },
   "file_extension": ".py",
   "mimetype": "text/x-python",
   "name": "python",
   "nbconvert_exporter": "python",
   "pygments_lexer": "ipython3",
   "version": "3.9.6"
  },
  "orig_nbformat": 4
 },
 "nbformat": 4,
 "nbformat_minor": 2
}
