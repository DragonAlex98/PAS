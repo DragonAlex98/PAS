{
 "cells": [
  {
   "cell_type": "markdown",
   "metadata": {},
   "source": [
    "# PAS"
   ]
  },
  {
   "cell_type": "markdown",
   "metadata": {},
   "source": [
    "# Install Python dependencies"
   ]
  },
  {
   "cell_type": "code",
   "execution_count": null,
   "metadata": {},
   "outputs": [],
   "source": [
    "%pip install pandas matplotlib"
   ]
  },
  {
   "cell_type": "markdown",
   "metadata": {},
   "source": [
    "# BD model vs BIDE model"
   ]
  },
  {
   "cell_type": "code",
   "execution_count": null,
   "metadata": {},
   "outputs": [],
   "source": [
    "import os\n",
    "import pandas as pd\n",
    "import matplotlib.pyplot as plt\n",
    "\n",
    "bd_vs_bide_folder = \"bd_vs_bide\"\n",
    "bd_results_folder = \"bd_results\"\n",
    "bide_results_folder = \"bide_results\"\n",
    "n_cities = 3\n",
    "columns = ['Time', 'Mean', 'SD', 'CI']"
   ]
  },
  {
   "cell_type": "code",
   "execution_count": null,
   "metadata": {},
   "outputs": [],
   "source": [
    "bd = pd.read_csv(filepath_or_buffer=os.path.join(os.path.join(bd_vs_bide_folder, bd_results_folder), 'bd_P_tot{}.csv'), sep=',', names=columns, header=None)\n",
    "bide = pd.read_csv(filepath_or_buffer=os.path.join(os.path.join(bd_vs_bide_folder, bide_results_folder), 'bide_P_tot{}.csv'), sep=',', names=columns, header=None)\n",
    "\n",
    "fig = plt.figure()\n",
    "ax = fig.add_subplot(1, 1, 1)\n",
    "fig.suptitle('Total population')\n",
    "ax.plot(bd['Time'], bd['Mean'], label='BD model')\n",
    "ax.fill_between(bd['Time'], bd['Mean']-bd['SD'], bd['Mean']+bd['SD'], alpha=0.3)\n",
    "ax.plot(bide['Time'], bide['Mean'], label='BIDE model')\n",
    "ax.fill_between(bide['Time'], bide['Mean']-bide['SD'], bide['Mean']+bide['SD'], alpha=0.3)\n",
    "ax.legend()\n",
    "plt.show()"
   ]
  },
  {
   "cell_type": "code",
   "execution_count": null,
   "metadata": {},
   "outputs": [],
   "source": [
    "bd = pd.read_csv(filepath_or_buffer=os.path.join(os.path.join(bd_vs_bide_folder, bd_results_folder), 'bd_P_tot{}.csv'), sep=',', names=columns, header=None)\n",
    "bide = pd.read_csv(filepath_or_buffer=os.path.join(os.path.join(bd_vs_bide_folder, bide_results_folder), 'bide_P_tot{}.csv'), sep=',', names=columns, header=None)\n",
    "\n",
    "bd_equation = pd.read_csv(filepath_or_buffer=os.path.join(os.path.join(bd_vs_bide_folder, bd_results_folder), 'bd_BD{}.csv'), sep=',', names=columns, header=None)\n",
    "bide_equation = pd.read_csv(filepath_or_buffer=os.path.join(os.path.join(bd_vs_bide_folder, bide_results_folder), 'bide_BIDE{}.csv'), sep=',', names=columns, header=None)\n",
    "\n",
    "fig = plt.figure()\n",
    "ax = fig.add_subplot(1, 1, 1)\n",
    "fig.suptitle('Total population and BD equation')\n",
    "ax.plot(bd['Time'], bd['Mean'], label='BD model')\n",
    "ax.plot(bd_equation['Time'], bd_equation['Mean'], label='BD equation')\n",
    "n0 = bd['Mean'][0]\n",
    "plt.hlines(y=n0, xmin=0, xmax=len(bd['Mean']), linestyles='dashed', label=f'N0 = {n0}')\n",
    "ax.legend(loc='upper left')\n",
    "plt.show()\n",
    "\n",
    "fig = plt.figure()\n",
    "ax = fig.add_subplot(1, 1, 1)\n",
    "fig.suptitle('Total population and BIDE equation')\n",
    "ax.plot(bide['Time'], bide['Mean'], label='BIDE model')\n",
    "ax.plot(bide_equation['Time'], bide_equation['Mean'], label='BIDE equation')\n",
    "n0 = bide['Mean'][0]\n",
    "plt.hlines(y=n0, xmin=0, xmax=len(bide['Mean']), linestyles='dashed', label=f'N0 = {n0}')\n",
    "ax.legend(loc='upper left')\n",
    "plt.show()"
   ]
  },
  {
   "cell_type": "code",
   "execution_count": null,
   "metadata": {},
   "outputs": [],
   "source": [
    "bd_pop = [None for i in range(n_cities)]\n",
    "bide_pop = [None for i in range(n_cities)]\n",
    "\n",
    "bd_equation = [None for i in range(n_cities)]\n",
    "bide_equation = [None for i in range(n_cities)]\n",
    "\n",
    "for i in range(n_cities):\n",
    "    bd_pop[i] = pd.read_csv(filepath_or_buffer=os.path.join(os.path.join(bd_vs_bide_folder, bd_results_folder), f'bd_#P[{i}].csv'), sep=',', names=columns, header=None)\n",
    "    bide_pop[i] = pd.read_csv(filepath_or_buffer=os.path.join(os.path.join(bd_vs_bide_folder, bide_results_folder), f'bide_#P[{i}].csv'), sep=',', names=columns, header=None)\n",
    "    bd_equation[i] = pd.read_csv(filepath_or_buffer=os.path.join(os.path.join(bd_vs_bide_folder, bd_results_folder), f'bd_SINGLE_BD{{i={i}.0}}.csv'), sep=',', names=columns, header=None)\n",
    "    bide_equation[i] = pd.read_csv(filepath_or_buffer=os.path.join(os.path.join(bd_vs_bide_folder, bide_results_folder), f'bide_SINGLE_BIDE{{i={i}.0}}.csv'), sep=',', names=columns, header=None)\n",
    "\n",
    "fig = plt.figure()\n",
    "ax = fig.add_subplot(1, 1, 1)\n",
    "fig.suptitle('Population and BD equation')\n",
    "for i in range(n_cities):\n",
    "    # ax.plot(bd_pop[i]['Time'], bd_pop[i]['Mean'], label=f'BD model city {i+1}')\n",
    "    ax.plot(bd_equation[i]['Time'], bd_equation[i]['Mean'], label=f'BD equation city {i+1}')\n",
    "ax.legend()\n",
    "plt.show()\n",
    "\n",
    "fig = plt.figure()\n",
    "ax = fig.add_subplot(1, 1, 1)\n",
    "fig.suptitle('Population and BIDE equation')\n",
    "for i in range(n_cities):\n",
    "    # ax.plot(bide_pop[i]['Time'], bide_pop[i]['Mean'], label=f'BIDE model city {i+1}')\n",
    "    ax.plot(bide_equation[i]['Time'], bide_equation[i]['Mean'], label=f'BIDE equation city {i+1}')\n",
    "ax.legend()\n",
    "plt.show()"
   ]
  },
  {
   "cell_type": "code",
   "execution_count": null,
   "metadata": {},
   "outputs": [],
   "source": [
    "bd_pop = [None for i in range(n_cities)]\n",
    "bide_pop = [None for i in range(n_cities)]\n",
    "for i in range(n_cities):\n",
    "    bd_pop[i] = pd.read_csv(filepath_or_buffer=os.path.join(os.path.join(bd_vs_bide_folder, bd_results_folder), f'bd_#P[{i}].csv'), sep=',', names=columns, header=None)\n",
    "    bide_pop[i] = pd.read_csv(filepath_or_buffer=os.path.join(os.path.join(bd_vs_bide_folder, bide_results_folder), f'bide_#P[{i}].csv'), sep=',', names=columns, header=None)\n",
    "\n",
    "fig = plt.figure()\n",
    "ax = fig.add_subplot(1, 1, 1)\n",
    "fig.suptitle('Population')\n",
    "for i in range(n_cities):\n",
    "    ax.plot(bd_pop[i]['Time'], bd_pop[i]['Mean'], label=f'BD model city {i+1}')\n",
    "for i in range(n_cities):\n",
    "    ax.plot(bide_pop[i]['Time'], bide_pop[i]['Mean'], label=f'BIDE model city {i+1}')\n",
    "ax.legend()\n",
    "plt.show()"
   ]
  },
  {
   "cell_type": "code",
   "execution_count": null,
   "metadata": {},
   "outputs": [],
   "source": [
    "bd_pop = [None for i in range(n_cities)]\n",
    "for i in range(n_cities):\n",
    "    bd_pop[i] = pd.read_csv(filepath_or_buffer=os.path.join(os.path.join(bd_vs_bide_folder, bd_results_folder), f'bd_#P[{i}].csv'), sep=',', names=columns, header=None)\n",
    "\n",
    "fig = plt.figure()\n",
    "ax = fig.add_subplot(1, 1, 1)\n",
    "fig.suptitle('Population')\n",
    "for i in range(n_cities):\n",
    "    ax.plot(bd_pop[i]['Time'], bd_pop[i]['Mean'], label=f'BD model city {i+1}')\n",
    "    ax.fill_between(bd_pop[i]['Time'], bd_pop[i]['Mean'] - bd_pop[i]['SD'], bd_pop[i]['Mean'] + bd_pop[i]['SD'], label=f'SD City {i+1}', alpha=0.3)\n",
    "ax.legend(loc='upper left')\n",
    "plt.show()"
   ]
  },
  {
   "cell_type": "code",
   "execution_count": null,
   "metadata": {},
   "outputs": [],
   "source": [
    "bide_pop = [None for i in range(n_cities)]\n",
    "for i in range(n_cities):\n",
    "    bide_pop[i] = pd.read_csv(filepath_or_buffer=os.path.join(os.path.join(bd_vs_bide_folder, bide_results_folder), f'bide_#P[{i}].csv'), sep=',', names=columns, header=None)\n",
    "\n",
    "fig = plt.figure()\n",
    "ax = fig.add_subplot(1, 1, 1)\n",
    "fig.suptitle('Population')\n",
    "for i in range(n_cities):\n",
    "    ax.plot(bide_pop[i]['Time'], bide_pop[i]['Mean'], label=f'BIDE model city {i+1}')\n",
    "    ax.fill_between(bide_pop[i]['Time'], bide_pop[i]['Mean'] - bide_pop[i]['SD'], bide_pop[i]['Mean'] + bide_pop[i]['SD'], label=f'SD City {i+1}', alpha=0.3)\n",
    "ax.legend(loc='upper left')\n",
    "plt.show()"
   ]
  },
  {
   "cell_type": "code",
   "execution_count": null,
   "metadata": {},
   "outputs": [],
   "source": [
    "species = 'PBD'\n",
    "n_species = len(species)\n",
    "\n",
    "bd_data = {}\n",
    "\n",
    "for s in species:\n",
    "    bd_data[s] = pd.read_csv(filepath_or_buffer=os.path.join(os.path.join(bd_vs_bide_folder, bd_results_folder), f'bd_{s}_tot{{}}.csv'), sep=',', names=columns, header=None)\n",
    "\n",
    "fig = plt.figure()\n",
    "ax = fig.add_subplot(1, 1, 1)\n",
    "fig.suptitle('Population, B-D')\n",
    "for s in species:\n",
    "    ax.plot(bd_data[s]['Time'], bd_data[s]['Mean'], label=f'#{s}')\n",
    "ax.legend()\n",
    "plt.show()"
   ]
  },
  {
   "cell_type": "code",
   "execution_count": null,
   "metadata": {},
   "outputs": [],
   "source": [
    "species = 'PBIDE'\n",
    "n_species = len(species)\n",
    "\n",
    "bide_data = {}\n",
    "\n",
    "for s in species:\n",
    "    bide_data[s] = pd.read_csv(filepath_or_buffer=os.path.join(os.path.join(bd_vs_bide_folder, bide_results_folder), f'bide_{s}_tot{{}}.csv'), sep=',', names=columns, header=None)\n",
    "\n",
    "fig = plt.figure()\n",
    "ax = fig.add_subplot(1, 1, 1)\n",
    "fig.suptitle('Population, B-I-D-E')\n",
    "for s in species:\n",
    "    ax.plot(bide_data[s]['Time'], bide_data[s]['Mean'], label=f'#{s}')\n",
    "ax.legend()\n",
    "plt.show()"
   ]
  },
  {
   "cell_type": "markdown",
   "metadata": {},
   "source": [
    "# Balanced vs Unbalanced"
   ]
  },
  {
   "cell_type": "code",
   "execution_count": null,
   "metadata": {},
   "outputs": [],
   "source": [
    "import os\n",
    "import pandas as pd\n",
    "import matplotlib.pyplot as plt\n",
    "\n",
    "balanced_vs_unbalanced_folder = \"balanced_vs_unbalanced\"\n",
    "balanced_results_folder = \"balanced_results\"\n",
    "unbalanced_results_folder = \"unbalanced_results\"\n",
    "n_cities = 3\n",
    "columns = ['Time', 'Mean', 'SD', 'CI']"
   ]
  },
  {
   "cell_type": "code",
   "execution_count": null,
   "metadata": {},
   "outputs": [],
   "source": [
    "balanced = pd.read_csv(filepath_or_buffer=os.path.join(os.path.join(balanced_vs_unbalanced_folder, balanced_results_folder), 'balanced_P_tot{}.csv'), sep=',', names=columns, header=None)\n",
    "unbalanced = pd.read_csv(filepath_or_buffer=os.path.join(os.path.join(balanced_vs_unbalanced_folder, unbalanced_results_folder), 'unbalanced_P_tot{}.csv'), sep=',', names=columns, header=None)\n",
    "\n",
    "fig = plt.figure()\n",
    "ax = fig.add_subplot(1, 1, 1)\n",
    "fig.suptitle('Total population')\n",
    "ax.plot(balanced['Time'], balanced['Mean'], label='Balanced system')\n",
    "ax.fill_between(balanced['Time'], balanced['Mean']-balanced['SD'], balanced['Mean']+balanced['SD'], alpha=0.3)\n",
    "ax.plot(unbalanced['Time'], unbalanced['Mean'], label='Unbalanced system')\n",
    "ax.fill_between(unbalanced['Time'], unbalanced['Mean']-unbalanced['SD'], unbalanced['Mean']+unbalanced['SD'], alpha=0.3)\n",
    "ax.legend()\n",
    "plt.show()"
   ]
  },
  {
   "cell_type": "code",
   "execution_count": null,
   "metadata": {},
   "outputs": [],
   "source": [
    "balanced_pop = [None for i in range(n_cities)]\n",
    "unbalanced_pop = [None for i in range(n_cities)]\n",
    "for i in range(n_cities):\n",
    "    balanced_pop[i] = pd.read_csv(filepath_or_buffer=os.path.join(os.path.join(balanced_vs_unbalanced_folder, balanced_results_folder), f'balanced_#P[{i}].csv'), sep=',', names=columns, header=None)\n",
    "    unbalanced_pop[i] = pd.read_csv(filepath_or_buffer=os.path.join(os.path.join(balanced_vs_unbalanced_folder, unbalanced_results_folder), f'unbalanced_#P[{i}].csv'), sep=',', names=columns, header=None)\n",
    "\n",
    "fig = plt.figure()\n",
    "ax = fig.add_subplot(1, 1, 1)\n",
    "fig.suptitle('Population')\n",
    "for i in range(n_cities):\n",
    "    ax.plot(balanced_pop[i]['Time'], balanced_pop[i]['Mean'], label=f'Balanced system city {i+1}')\n",
    "for i in range(n_cities):\n",
    "    ax.plot(unbalanced_pop[i]['Time'], unbalanced_pop[i]['Mean'], label=f'Unbalanced system city {i+1}')\n",
    "ax.legend()\n",
    "# plt.axis([0, 2000, 0, 200])\n",
    "plt.show()"
   ]
  },
  {
   "cell_type": "markdown",
   "metadata": {},
   "source": [
    "# Emigrate to Next vs Biggest vs Smallest city"
   ]
  },
  {
   "cell_type": "code",
   "execution_count": null,
   "metadata": {},
   "outputs": [],
   "source": [
    "import os\n",
    "import pandas as pd\n",
    "import matplotlib.pyplot as plt\n",
    "\n",
    "next_vs_biggest_vs_smallest_folder = \"next_vs_biggest_vs_smallest\"\n",
    "next_results_folder = \"next_results\"\n",
    "biggest_results_folder = \"biggest_results\"\n",
    "smallest_results_folder = \"smallest_results\"\n",
    "n_cities = 3\n",
    "columns = ['Time', 'Mean', 'SD', 'CI']"
   ]
  },
  {
   "cell_type": "code",
   "execution_count": null,
   "metadata": {},
   "outputs": [],
   "source": [
    "next = pd.read_csv(filepath_or_buffer=os.path.join(os.path.join(next_vs_biggest_vs_smallest_folder, next_results_folder), 'next_P_tot{}.csv'), sep=',', names=columns, header=None)\n",
    "biggest = pd.read_csv(filepath_or_buffer=os.path.join(os.path.join(next_vs_biggest_vs_smallest_folder, biggest_results_folder), 'biggest_P_tot{}.csv'), sep=',', names=columns, header=None)\n",
    "smallest = pd.read_csv(filepath_or_buffer=os.path.join(os.path.join(next_vs_biggest_vs_smallest_folder, smallest_results_folder), 'smallest_P_tot{}.csv'), sep=',', names=columns, header=None)\n",
    "\n",
    "fig = plt.figure()\n",
    "ax = fig.add_subplot(1, 1, 1)\n",
    "fig.suptitle('Total population')\n",
    "ax.plot(next['Time'], next['Mean'], label='Emigrate to Next')\n",
    "ax.fill_between(next['Time'], next['Mean']-next['SD'], next['Mean']+next['SD'], alpha=0.3)\n",
    "ax.plot(biggest['Time'], biggest['Mean'], label='Emigrate to Biggest')\n",
    "ax.fill_between(biggest['Time'], biggest['Mean']-biggest['SD'], biggest['Mean']+biggest['SD'], alpha=0.3)\n",
    "ax.plot(smallest['Time'], smallest['Mean'], label='Emigrate to Smallest')\n",
    "ax.fill_between(smallest['Time'], smallest['Mean']-smallest['SD'], smallest['Mean']+smallest['SD'], alpha=0.3)\n",
    "ax.legend()\n",
    "plt.show()"
   ]
  },
  {
   "cell_type": "code",
   "execution_count": null,
   "metadata": {},
   "outputs": [],
   "source": [
    "fig = plt.figure()\n",
    "ax = fig.add_subplot(1, 1, 1)\n",
    "fig.suptitle('Total population')\n",
    "ax.plot(next['Time'], next['Mean'], label='Emigrate to Next')\n",
    "ax.plot(smallest['Time'], smallest['Mean'], color='green', label='Emigrate to Smallest')\n",
    "ax.legend()\n",
    "plt.show()"
   ]
  },
  {
   "cell_type": "code",
   "execution_count": null,
   "metadata": {},
   "outputs": [],
   "source": [
    "next_pop = [None for i in range(n_cities)]\n",
    "biggest_pop = [None for i in range(n_cities)]\n",
    "smallest_pop = [None for i in range(n_cities)]\n",
    "for i in range(n_cities):\n",
    "    next_pop[i] = pd.read_csv(filepath_or_buffer=os.path.join(os.path.join(next_vs_biggest_vs_smallest_folder, next_results_folder), f'next_#P[{i}].csv'), sep=',', names=columns, header=None)\n",
    "    biggest_pop[i] = pd.read_csv(filepath_or_buffer=os.path.join(os.path.join(next_vs_biggest_vs_smallest_folder, biggest_results_folder), f'biggest_#P[{i}].csv'), sep=',', names=columns, header=None)\n",
    "    smallest_pop[i] = pd.read_csv(filepath_or_buffer=os.path.join(os.path.join(next_vs_biggest_vs_smallest_folder, smallest_results_folder), f'smallest_#P[{i}].csv'), sep=',', names=columns, header=None)\n",
    "\n",
    "next = ['Emigrate to Next', next_pop]\n",
    "biggest = ['Emigrate to Biggest', biggest_pop]\n",
    "smallest = ['Emigrate to Smallest', smallest_pop]\n",
    "for strategy in [next, biggest, smallest]:\n",
    "    fig = plt.figure()\n",
    "    ax = fig.add_subplot(1, 1, 1)\n",
    "    fig.suptitle(strategy[0])\n",
    "    for i in range(n_cities):\n",
    "        ax.plot(strategy[1][i]['Time'], strategy[1][i]['Mean'], label=f'City {i+1}')\n",
    "        ax.fill_between(strategy[1][i]['Time'], strategy[1][i]['Mean'] - strategy[1][i]['SD'], strategy[1][i]['Mean'] + strategy[1][i]['SD'], label=f'City {i+1}', alpha=0.3)\n",
    "    ax.legend(loc='upper left')\n",
    "    plt.show()"
   ]
  },
  {
   "cell_type": "markdown",
   "metadata": {},
   "source": [
    "# Child vs Children"
   ]
  },
  {
   "cell_type": "code",
   "execution_count": null,
   "metadata": {},
   "outputs": [],
   "source": [
    "import os\n",
    "import pandas as pd\n",
    "import matplotlib.pyplot as plt\n",
    "\n",
    "child_vs_children_folder = \"child_vs_children\"\n",
    "child_results_folder = \"child_results\"\n",
    "children_results_folder = \"children_results\"\n",
    "n_cities = 3\n",
    "columns = ['Time', 'Mean', 'SD', 'CI']"
   ]
  },
  {
   "cell_type": "code",
   "execution_count": null,
   "metadata": {},
   "outputs": [],
   "source": [
    "child = pd.read_csv(filepath_or_buffer=os.path.join(os.path.join(child_vs_children_folder, child_results_folder), 'child_P_tot{}.csv'), sep=',', names=columns, header=None)\n",
    "children = pd.read_csv(filepath_or_buffer=os.path.join(os.path.join(child_vs_children_folder, children_results_folder), 'children_P_tot{}.csv'), sep=',', names=columns, header=None)\n",
    "\n",
    "fig = plt.figure()\n",
    "ax = fig.add_subplot(1, 1, 1)\n",
    "fig.suptitle('Total population')\n",
    "ax.plot(child['Time'], child['Mean'], label='Child')\n",
    "ax.fill_between(child['Time'], child['Mean']-child['SD'], child['Mean']+child['SD'], alpha=0.3)\n",
    "ax.plot(children['Time'], children['Mean'], label='Children')\n",
    "ax.fill_between(children['Time'], children['Mean']-children['SD'], children['Mean']+children['SD'], alpha=0.3)\n",
    "ax.legend()\n",
    "plt.show()"
   ]
  },
  {
   "cell_type": "code",
   "execution_count": null,
   "metadata": {},
   "outputs": [],
   "source": [
    "species = 'PBD'\n",
    "n_species = len(species)\n",
    "\n",
    "child_data = {}\n",
    "children_data = {}\n",
    "\n",
    "for s in species:\n",
    "    child_data[s] = pd.read_csv(filepath_or_buffer=os.path.join(os.path.join(child_vs_children_folder, child_results_folder), f'child_{s}_tot{{}}.csv'), sep=',', names=columns, header=None)\n",
    "    children_data[s] = pd.read_csv(filepath_or_buffer=os.path.join(os.path.join(child_vs_children_folder, children_results_folder), f'children_{s}_tot{{}}.csv'), sep=',', names=columns, header=None)\n",
    "\n",
    "fig = plt.figure()\n",
    "ax = fig.add_subplot(1, 1, 1)\n",
    "fig.suptitle('Population, B-D')\n",
    "for s in species:\n",
    "    ax.plot(child_data[s]['Time'], child_data[s]['Mean'], label=f'Child #{s}')\n",
    "ax.legend()\n",
    "plt.show()\n",
    "\n",
    "fig = plt.figure()\n",
    "ax = fig.add_subplot(1, 1, 1)\n",
    "fig.suptitle('Population, B-D')\n",
    "for s in species:\n",
    "    ax.plot(children_data[s]['Time'], children_data[s]['Mean'], label=f'Children #{s}')\n",
    "ax.legend()\n",
    "plt.show()"
   ]
  }
 ],
 "metadata": {
  "interpreter": {
   "hash": "ac59ebe37160ed0dfa835113d9b8498d9f09ceb179beaac4002f036b9467c963"
  },
  "kernelspec": {
   "display_name": "Python 3.9.6 64-bit",
   "language": "python",
   "name": "python3"
  },
  "language_info": {
   "codemirror_mode": {
    "name": "ipython",
    "version": 3
   },
   "file_extension": ".py",
   "mimetype": "text/x-python",
   "name": "python",
   "nbconvert_exporter": "python",
   "pygments_lexer": "ipython3",
   "version": "3.9.6"
  },
  "orig_nbformat": 4
 },
 "nbformat": 4,
 "nbformat_minor": 2
}
